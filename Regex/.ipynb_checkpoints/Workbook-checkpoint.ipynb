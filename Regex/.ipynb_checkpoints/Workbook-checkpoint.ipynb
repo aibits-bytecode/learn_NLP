{
 "cells": [
  {
   "cell_type": "code",
   "execution_count": 1,
   "id": "87ba2f3d",
   "metadata": {},
   "outputs": [],
   "source": [
    "import re"
   ]
  },
  {
   "cell_type": "code",
   "execution_count": 2,
   "id": "4c089a2c",
   "metadata": {},
   "outputs": [],
   "source": [
    "chat1 = 'you ask lot of questions  123456, abc@gmail.com'\n",
    "chat2 = 'here it is: (123)-456, abc@gmail.com'\n",
    "chat3 = 'yes, phone: 123456 - email: abc@gmail.com'"
   ]
  },
  {
   "cell_type": "code",
   "execution_count": 6,
   "id": "d9285db8",
   "metadata": {},
   "outputs": [
    {
     "data": {
      "text/plain": [
       "['123456']"
      ]
     },
     "execution_count": 6,
     "metadata": {},
     "output_type": "execute_result"
    }
   ],
   "source": [
    "pattern = '\\d{6}'\n",
    "matches = re.findall(pattern, chat1)\n",
    "matches"
   ]
  },
  {
   "cell_type": "code",
   "execution_count": null,
   "id": "d705a0d7",
   "metadata": {},
   "outputs": [],
   "source": []
  }
 ],
 "metadata": {
  "kernelspec": {
   "display_name": "Python 3 (ipykernel)",
   "language": "python",
   "name": "python3"
  },
  "language_info": {
   "codemirror_mode": {
    "name": "ipython",
    "version": 3
   },
   "file_extension": ".py",
   "mimetype": "text/x-python",
   "name": "python",
   "nbconvert_exporter": "python",
   "pygments_lexer": "ipython3",
   "version": "3.9.13"
  }
 },
 "nbformat": 4,
 "nbformat_minor": 5
}
